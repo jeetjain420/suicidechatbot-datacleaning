{
 "cells": [
  {
   "cell_type": "code",
   "execution_count": 2,
   "metadata": {},
   "outputs": [
    {
     "name": "stdout",
     "output_type": "stream",
     "text": [
      "['Sheet_1.csv', 'Sheet_2.csv']\n"
     ]
    }
   ],
   "source": [
    "import numpy as np # linear algebra\n",
    "import pandas as pd # data processing, CSV file I/O (e.g. pd.read_csv)\n",
    "import matplotlib.pyplot as plt\n",
    "import seaborn as sns\n",
    "import warnings  \n",
    "warnings.filterwarnings(\"ignore\")   # ignore warnings\n",
    "\n",
    "# Input data files are available in the \"../input/\" directory.\n",
    "# For example, running this (by clicking run or pressing Shift+Enter) will list the files in the input directory\n",
    "\n",
    "import os\n",
    "print(os.listdir(r\"C:\\Users\\acer pc\\OneDrive\\Desktop\\nlp\"))\n",
    "\n"
   ]
  },
  {
   "cell_type": "code",
   "execution_count": 4,
   "metadata": {},
   "outputs": [],
   "source": [
    "data = pd.read_csv(r'C:\\Users\\acer pc\\OneDrive\\Desktop\\nlp\\Sheet_1.csv')"
   ]
  },
  {
   "cell_type": "code",
   "execution_count": 5,
   "metadata": {},
   "outputs": [
    {
     "data": {
      "text/html": [
       "<div>\n",
       "<style scoped>\n",
       "    .dataframe tbody tr th:only-of-type {\n",
       "        vertical-align: middle;\n",
       "    }\n",
       "\n",
       "    .dataframe tbody tr th {\n",
       "        vertical-align: top;\n",
       "    }\n",
       "\n",
       "    .dataframe thead th {\n",
       "        text-align: right;\n",
       "    }\n",
       "</style>\n",
       "<table border=\"1\" class=\"dataframe\">\n",
       "  <thead>\n",
       "    <tr style=\"text-align: right;\">\n",
       "      <th></th>\n",
       "      <th>response_id</th>\n",
       "      <th>class</th>\n",
       "      <th>response_text</th>\n",
       "      <th>Unnamed: 3</th>\n",
       "      <th>Unnamed: 4</th>\n",
       "      <th>Unnamed: 5</th>\n",
       "      <th>Unnamed: 6</th>\n",
       "      <th>Unnamed: 7</th>\n",
       "    </tr>\n",
       "  </thead>\n",
       "  <tbody>\n",
       "    <tr>\n",
       "      <th>0</th>\n",
       "      <td>response_1</td>\n",
       "      <td>not_flagged</td>\n",
       "      <td>I try and avoid this sort of conflict</td>\n",
       "      <td>NaN</td>\n",
       "      <td>NaN</td>\n",
       "      <td>NaN</td>\n",
       "      <td>NaN</td>\n",
       "      <td>NaN</td>\n",
       "    </tr>\n",
       "    <tr>\n",
       "      <th>1</th>\n",
       "      <td>response_2</td>\n",
       "      <td>flagged</td>\n",
       "      <td>Had a friend open up to me about his mental ad...</td>\n",
       "      <td>NaN</td>\n",
       "      <td>NaN</td>\n",
       "      <td>NaN</td>\n",
       "      <td>NaN</td>\n",
       "      <td>NaN</td>\n",
       "    </tr>\n",
       "    <tr>\n",
       "      <th>2</th>\n",
       "      <td>response_3</td>\n",
       "      <td>flagged</td>\n",
       "      <td>I saved a girl from suicide once. She was goin...</td>\n",
       "      <td>NaN</td>\n",
       "      <td>NaN</td>\n",
       "      <td>NaN</td>\n",
       "      <td>NaN</td>\n",
       "      <td>NaN</td>\n",
       "    </tr>\n",
       "    <tr>\n",
       "      <th>3</th>\n",
       "      <td>response_4</td>\n",
       "      <td>not_flagged</td>\n",
       "      <td>i cant think of one really...i think i may hav...</td>\n",
       "      <td>NaN</td>\n",
       "      <td>NaN</td>\n",
       "      <td>NaN</td>\n",
       "      <td>NaN</td>\n",
       "      <td>NaN</td>\n",
       "    </tr>\n",
       "    <tr>\n",
       "      <th>4</th>\n",
       "      <td>response_5</td>\n",
       "      <td>not_flagged</td>\n",
       "      <td>Only really one friend who doesn't fit into th...</td>\n",
       "      <td></td>\n",
       "      <td>NaN</td>\n",
       "      <td>NaN</td>\n",
       "      <td>NaN</td>\n",
       "      <td>NaN</td>\n",
       "    </tr>\n",
       "  </tbody>\n",
       "</table>\n",
       "</div>"
      ],
      "text/plain": [
       "  response_id        class                                      response_text  \\\n",
       "0  response_1  not_flagged              I try and avoid this sort of conflict   \n",
       "1  response_2      flagged  Had a friend open up to me about his mental ad...   \n",
       "2  response_3      flagged  I saved a girl from suicide once. She was goin...   \n",
       "3  response_4  not_flagged  i cant think of one really...i think i may hav...   \n",
       "4  response_5  not_flagged  Only really one friend who doesn't fit into th...   \n",
       "\n",
       "  Unnamed: 3  Unnamed: 4 Unnamed: 5  Unnamed: 6 Unnamed: 7  \n",
       "0        NaN         NaN        NaN         NaN        NaN  \n",
       "1        NaN         NaN        NaN         NaN        NaN  \n",
       "2        NaN         NaN        NaN         NaN        NaN  \n",
       "3        NaN         NaN        NaN         NaN        NaN  \n",
       "4                    NaN        NaN         NaN        NaN  "
      ]
     },
     "execution_count": 5,
     "metadata": {},
     "output_type": "execute_result"
    }
   ],
   "source": [
    "data.head()"
   ]
  },
  {
   "cell_type": "code",
   "execution_count": 6,
   "metadata": {},
   "outputs": [
    {
     "name": "stdout",
     "output_type": "stream",
     "text": [
      "<class 'pandas.core.frame.DataFrame'>\n",
      "RangeIndex: 80 entries, 0 to 79\n",
      "Data columns (total 8 columns):\n",
      " #   Column         Non-Null Count  Dtype  \n",
      "---  ------         --------------  -----  \n",
      " 0   response_id    80 non-null     object \n",
      " 1   class          80 non-null     object \n",
      " 2   response_text  80 non-null     object \n",
      " 3   Unnamed: 3     2 non-null      object \n",
      " 4   Unnamed: 4     0 non-null      float64\n",
      " 5   Unnamed: 5     1 non-null      object \n",
      " 6   Unnamed: 6     0 non-null      float64\n",
      " 7   Unnamed: 7     1 non-null      object \n",
      "dtypes: float64(2), object(6)\n",
      "memory usage: 5.1+ KB\n"
     ]
    }
   ],
   "source": [
    "data.info()"
   ]
  },
  {
   "cell_type": "code",
   "execution_count": 7,
   "metadata": {},
   "outputs": [],
   "source": [
    "part1 = data.iloc[:, 1:2]"
   ]
  },
  {
   "cell_type": "code",
   "execution_count": 8,
   "metadata": {},
   "outputs": [
    {
     "name": "stdout",
     "output_type": "stream",
     "text": [
      "<class 'pandas.core.frame.DataFrame'>\n",
      "RangeIndex: 80 entries, 0 to 79\n",
      "Data columns (total 1 columns):\n",
      " #   Column  Non-Null Count  Dtype \n",
      "---  ------  --------------  ----- \n",
      " 0   class   80 non-null     object\n",
      "dtypes: object(1)\n",
      "memory usage: 768.0+ bytes\n"
     ]
    }
   ],
   "source": [
    "part1.info()"
   ]
  },
  {
   "cell_type": "code",
   "execution_count": 9,
   "metadata": {},
   "outputs": [
    {
     "data": {
      "text/html": [
       "<div>\n",
       "<style scoped>\n",
       "    .dataframe tbody tr th:only-of-type {\n",
       "        vertical-align: middle;\n",
       "    }\n",
       "\n",
       "    .dataframe tbody tr th {\n",
       "        vertical-align: top;\n",
       "    }\n",
       "\n",
       "    .dataframe thead th {\n",
       "        text-align: right;\n",
       "    }\n",
       "</style>\n",
       "<table border=\"1\" class=\"dataframe\">\n",
       "  <thead>\n",
       "    <tr style=\"text-align: right;\">\n",
       "      <th></th>\n",
       "      <th>class</th>\n",
       "    </tr>\n",
       "  </thead>\n",
       "  <tbody>\n",
       "    <tr>\n",
       "      <th>0</th>\n",
       "      <td>not_flagged</td>\n",
       "    </tr>\n",
       "    <tr>\n",
       "      <th>1</th>\n",
       "      <td>flagged</td>\n",
       "    </tr>\n",
       "    <tr>\n",
       "      <th>2</th>\n",
       "      <td>flagged</td>\n",
       "    </tr>\n",
       "    <tr>\n",
       "      <th>3</th>\n",
       "      <td>not_flagged</td>\n",
       "    </tr>\n",
       "    <tr>\n",
       "      <th>4</th>\n",
       "      <td>not_flagged</td>\n",
       "    </tr>\n",
       "  </tbody>\n",
       "</table>\n",
       "</div>"
      ],
      "text/plain": [
       "         class\n",
       "0  not_flagged\n",
       "1      flagged\n",
       "2      flagged\n",
       "3  not_flagged\n",
       "4  not_flagged"
      ]
     },
     "execution_count": 9,
     "metadata": {},
     "output_type": "execute_result"
    }
   ],
   "source": [
    "part1.head()"
   ]
  },
  {
   "cell_type": "code",
   "execution_count": 10,
   "metadata": {},
   "outputs": [
    {
     "name": "stdout",
     "output_type": "stream",
     "text": [
      "                                        response_text\n",
      "0               I try and avoid this sort of conflict\n",
      "1   Had a friend open up to me about his mental ad...\n",
      "2   I saved a girl from suicide once. She was goin...\n",
      "3   i cant think of one really...i think i may hav...\n",
      "4   Only really one friend who doesn't fit into th...\n",
      "..                                                ...\n",
      "75  Now that I've been through it, although i'm no...\n",
      "76  when my best friends mom past away from od'ing...\n",
      "77  As a camp counselor I provide stability in kid...\n",
      "78  My now girlfriend used to have serious addicti...\n",
      "79  The one person I ever talked to it was because...\n",
      "\n",
      "[80 rows x 1 columns]\n"
     ]
    }
   ],
   "source": [
    "part2 = data.iloc[:,2:3]\n",
    "print(part2)"
   ]
  },
  {
   "cell_type": "code",
   "execution_count": 11,
   "metadata": {},
   "outputs": [
    {
     "name": "stdout",
     "output_type": "stream",
     "text": [
      "          class\n",
      "0   not_flagged\n",
      "1       flagged\n",
      "2       flagged\n",
      "3   not_flagged\n",
      "4   not_flagged\n",
      "..          ...\n",
      "75  not_flagged\n",
      "76      flagged\n",
      "77  not_flagged\n",
      "78      flagged\n",
      "79  not_flagged\n",
      "\n",
      "[80 rows x 1 columns]\n"
     ]
    }
   ],
   "source": [
    "print(part1)"
   ]
  },
  {
   "cell_type": "code",
   "execution_count": 12,
   "metadata": {},
   "outputs": [
    {
     "data": {
      "text/html": [
       "<div>\n",
       "<style scoped>\n",
       "    .dataframe tbody tr th:only-of-type {\n",
       "        vertical-align: middle;\n",
       "    }\n",
       "\n",
       "    .dataframe tbody tr th {\n",
       "        vertical-align: top;\n",
       "    }\n",
       "\n",
       "    .dataframe thead th {\n",
       "        text-align: right;\n",
       "    }\n",
       "</style>\n",
       "<table border=\"1\" class=\"dataframe\">\n",
       "  <thead>\n",
       "    <tr style=\"text-align: right;\">\n",
       "      <th></th>\n",
       "      <th>0</th>\n",
       "      <th>1</th>\n",
       "    </tr>\n",
       "  </thead>\n",
       "  <tbody>\n",
       "    <tr>\n",
       "      <th>0</th>\n",
       "      <td>I try and avoid this sort of conflict</td>\n",
       "      <td>not_flagged</td>\n",
       "    </tr>\n",
       "    <tr>\n",
       "      <th>1</th>\n",
       "      <td>Had a friend open up to me about his mental ad...</td>\n",
       "      <td>flagged</td>\n",
       "    </tr>\n",
       "    <tr>\n",
       "      <th>2</th>\n",
       "      <td>I saved a girl from suicide once. She was goin...</td>\n",
       "      <td>flagged</td>\n",
       "    </tr>\n",
       "    <tr>\n",
       "      <th>3</th>\n",
       "      <td>i cant think of one really...i think i may hav...</td>\n",
       "      <td>not_flagged</td>\n",
       "    </tr>\n",
       "    <tr>\n",
       "      <th>4</th>\n",
       "      <td>Only really one friend who doesn't fit into th...</td>\n",
       "      <td>not_flagged</td>\n",
       "    </tr>\n",
       "    <tr>\n",
       "      <th>...</th>\n",
       "      <td>...</td>\n",
       "      <td>...</td>\n",
       "    </tr>\n",
       "    <tr>\n",
       "      <th>75</th>\n",
       "      <td>Now that I've been through it, although i'm no...</td>\n",
       "      <td>not_flagged</td>\n",
       "    </tr>\n",
       "    <tr>\n",
       "      <th>76</th>\n",
       "      <td>when my best friends mom past away from od'ing...</td>\n",
       "      <td>flagged</td>\n",
       "    </tr>\n",
       "    <tr>\n",
       "      <th>77</th>\n",
       "      <td>As a camp counselor I provide stability in kid...</td>\n",
       "      <td>not_flagged</td>\n",
       "    </tr>\n",
       "    <tr>\n",
       "      <th>78</th>\n",
       "      <td>My now girlfriend used to have serious addicti...</td>\n",
       "      <td>flagged</td>\n",
       "    </tr>\n",
       "    <tr>\n",
       "      <th>79</th>\n",
       "      <td>The one person I ever talked to it was because...</td>\n",
       "      <td>not_flagged</td>\n",
       "    </tr>\n",
       "  </tbody>\n",
       "</table>\n",
       "<p>80 rows × 2 columns</p>\n",
       "</div>"
      ],
      "text/plain": [
       "                                                    0            1\n",
       "0               I try and avoid this sort of conflict  not_flagged\n",
       "1   Had a friend open up to me about his mental ad...      flagged\n",
       "2   I saved a girl from suicide once. She was goin...      flagged\n",
       "3   i cant think of one really...i think i may hav...  not_flagged\n",
       "4   Only really one friend who doesn't fit into th...  not_flagged\n",
       "..                                                ...          ...\n",
       "75  Now that I've been through it, although i'm no...  not_flagged\n",
       "76  when my best friends mom past away from od'ing...      flagged\n",
       "77  As a camp counselor I provide stability in kid...  not_flagged\n",
       "78  My now girlfriend used to have serious addicti...      flagged\n",
       "79  The one person I ever talked to it was because...  not_flagged\n",
       "\n",
       "[80 rows x 2 columns]"
      ]
     },
     "execution_count": 12,
     "metadata": {},
     "output_type": "execute_result"
    }
   ],
   "source": [
    "comment = pd.concat([part2,part1], axis=1, ignore_index=True)\n",
    "comment"
   ]
  },
  {
   "cell_type": "code",
   "execution_count": 13,
   "metadata": {},
   "outputs": [],
   "source": [
    "comment.columns = ['Response', 'Class']"
   ]
  },
  {
   "cell_type": "code",
   "execution_count": 14,
   "metadata": {},
   "outputs": [
    {
     "name": "stdout",
     "output_type": "stream",
     "text": [
      "                                             Response        Class\n",
      "0               I try and avoid this sort of conflict  not_flagged\n",
      "1   Had a friend open up to me about his mental ad...      flagged\n",
      "2   I saved a girl from suicide once. She was goin...      flagged\n",
      "3   i cant think of one really...i think i may hav...  not_flagged\n",
      "4   Only really one friend who doesn't fit into th...  not_flagged\n",
      "..                                                ...          ...\n",
      "75  Now that I've been through it, although i'm no...  not_flagged\n",
      "76  when my best friends mom past away from od'ing...      flagged\n",
      "77  As a camp counselor I provide stability in kid...  not_flagged\n",
      "78  My now girlfriend used to have serious addicti...      flagged\n",
      "79  The one person I ever talked to it was because...  not_flagged\n",
      "\n",
      "[80 rows x 2 columns]\n"
     ]
    }
   ],
   "source": [
    "print(comment)"
   ]
  },
  {
   "cell_type": "code",
   "execution_count": 17,
   "metadata": {},
   "outputs": [],
   "source": [
    "import re\n",
    "result = re.sub('[^a-zA-Z]', ' ', comment['Response'][1])"
   ]
  },
  {
   "cell_type": "code",
   "execution_count": 18,
   "metadata": {},
   "outputs": [
    {
     "data": {
      "text/plain": [
       "'Had a friend open up to me about his mental addiction to weed and how it was taking over his life and making him depressed'"
      ]
     },
     "execution_count": 18,
     "metadata": {},
     "output_type": "execute_result"
    }
   ],
   "source": [
    "result"
   ]
  },
  {
   "cell_type": "code",
   "execution_count": 19,
   "metadata": {},
   "outputs": [
    {
     "data": {
      "text/plain": [
       "['Had',\n",
       " 'a',\n",
       " 'friend',\n",
       " 'open',\n",
       " 'up',\n",
       " 'to',\n",
       " 'me',\n",
       " 'about',\n",
       " 'his',\n",
       " 'mental',\n",
       " 'addiction',\n",
       " 'to',\n",
       " 'weed',\n",
       " 'and',\n",
       " 'how',\n",
       " 'it',\n",
       " 'was',\n",
       " 'taking',\n",
       " 'over',\n",
       " 'his',\n",
       " 'life',\n",
       " 'and',\n",
       " 'making',\n",
       " 'him',\n",
       " 'depressed']"
      ]
     },
     "execution_count": 19,
     "metadata": {},
     "output_type": "execute_result"
    }
   ],
   "source": [
    "result = result.split()\n",
    "result"
   ]
  },
  {
   "cell_type": "code",
   "execution_count": 21,
   "metadata": {},
   "outputs": [
    {
     "name": "stdout",
     "output_type": "stream",
     "text": [
      "['i', 'me', 'my', 'myself', 'we', 'our', 'ours', 'ourselves', 'you', \"you're\", \"you've\", \"you'll\", \"you'd\", 'your', 'yours', 'yourself', 'yourselves', 'he', 'him', 'his', 'himself', 'she', \"she's\", 'her', 'hers', 'herself', 'it', \"it's\", 'its', 'itself', 'they', 'them', 'their', 'theirs', 'themselves', 'what', 'which', 'who', 'whom', 'this', 'that', \"that'll\", 'these', 'those', 'am', 'is', 'are', 'was', 'were', 'be', 'been', 'being', 'have', 'has', 'had', 'having', 'do', 'does', 'did', 'doing', 'a', 'an', 'the', 'and', 'but', 'if', 'or', 'because', 'as', 'until', 'while', 'of', 'at', 'by', 'for', 'with', 'about', 'against', 'between', 'into', 'through', 'during', 'before', 'after', 'above', 'below', 'to', 'from', 'up', 'down', 'in', 'out', 'on', 'off', 'over', 'under', 'again', 'further', 'then', 'once', 'here', 'there', 'when', 'where', 'why', 'how', 'all', 'any', 'both', 'each', 'few', 'more', 'most', 'other', 'some', 'such', 'no', 'nor', 'not', 'only', 'own', 'same', 'so', 'than', 'too', 'very', 's', 't', 'can', 'will', 'just', 'don', \"don't\", 'should', \"should've\", 'now', 'd', 'll', 'm', 'o', 're', 've', 'y', 'ain', 'aren', \"aren't\", 'couldn', \"couldn't\", 'didn', \"didn't\", 'doesn', \"doesn't\", 'hadn', \"hadn't\", 'hasn', \"hasn't\", 'haven', \"haven't\", 'isn', \"isn't\", 'ma', 'mightn', \"mightn't\", 'mustn', \"mustn't\", 'needn', \"needn't\", 'shan', \"shan't\", 'shouldn', \"shouldn't\", 'wasn', \"wasn't\", 'weren', \"weren't\", 'won', \"won't\", 'wouldn', \"wouldn't\"]\n"
     ]
    }
   ],
   "source": [
    "import nltk \n",
    "from nltk.corpus import stopwords\n",
    "stopwords_en = stopwords.words('english')\n",
    "print(stopwords_en)"
   ]
  },
  {
   "cell_type": "code",
   "execution_count": 22,
   "metadata": {},
   "outputs": [],
   "source": [
    "from nltk.stem.porter import PorterStemmer\n",
    "ps = PorterStemmer()"
   ]
  },
  {
   "cell_type": "code",
   "execution_count": 24,
   "metadata": {},
   "outputs": [
    {
     "data": {
      "text/plain": [
       "['had',\n",
       " 'friend',\n",
       " 'open',\n",
       " 'mental',\n",
       " 'addict',\n",
       " 'weed',\n",
       " 'take',\n",
       " 'life',\n",
       " 'make',\n",
       " 'depress']"
      ]
     },
     "execution_count": 24,
     "metadata": {},
     "output_type": "execute_result"
    }
   ],
   "source": [
    "result = [ps.stem(word) for word in result if not word in set(stopwords.words('english'))]\n",
    "result"
   ]
  },
  {
   "cell_type": "code",
   "execution_count": 25,
   "metadata": {},
   "outputs": [],
   "source": [
    "result = ' '.join(result)"
   ]
  },
  {
   "cell_type": "code",
   "execution_count": 26,
   "metadata": {},
   "outputs": [
    {
     "data": {
      "text/plain": [
       "'had friend open mental addict weed take life make depress'"
      ]
     },
     "execution_count": 26,
     "metadata": {},
     "output_type": "execute_result"
    }
   ],
   "source": [
    "result"
   ]
  },
  {
   "cell_type": "code",
   "execution_count": 27,
   "metadata": {},
   "outputs": [],
   "source": [
    "final_result= []\n",
    "for i in range(80):\n",
    "    result = re.sub('[^a-zA-Z]', ' ', comment['Response'][i])\n",
    "    result = result.lower()\n",
    "    result = result.split()\n",
    "    result = [ps.stem(word) for word in result if not word in set(stopwords.words('english'))]\n",
    "    result = ' '.join(result)\n",
    "    final_result.append(result)"
   ]
  },
  {
   "cell_type": "code",
   "execution_count": 28,
   "metadata": {},
   "outputs": [
    {
     "data": {
      "text/plain": [
       "['tri avoid sort conflict',\n",
       " 'friend open mental addict weed take life make depress',\n",
       " 'save girl suicid go swallow bunch pill talk calm love way',\n",
       " 'cant think one realli think may indirectli',\n",
       " 'realli one friend fit categori therapist call spiral anyway pretti much call time frustrat someth boyfriend ask logic would fight would call crazi ask ok say pleas said hand remot',\n",
       " 'coupl year ago friend go switch school low self esteem help overcom shit',\n",
       " 'roommat go death loss gf anyth get bedroom',\n",
       " 'coupl friend could say friend quit sever depress emot problem help eventu relationship start suffer result person problem',\n",
       " 'listen someon talk relationship troubl offer advic person experi',\n",
       " 'alway listen comfort sister lost virgiti night walk boyfriend cut parent found threw hous part simpli bring support focu',\n",
       " 'took week work pack car pick friend verg lose went camp surf week parent big part problem away other physic activ everi day week around help feel',\n",
       " 'memori anniversari friend father give support remind alon',\n",
       " 'anxiou girlfriend alway need help',\n",
       " 'never',\n",
       " 'mom',\n",
       " 'ex gf cutter suicid got issu slowli die insid',\n",
       " 'help advis friend face circumst similar mine',\n",
       " 'help friend',\n",
       " 'friend girl talk tryin make feel better',\n",
       " 'express concern open friend deal troubl let know fell open dialog',\n",
       " 'listen girlfriend problem',\n",
       " 'friend think suicid day manag talk',\n",
       " 'gone depress anxieti understand struggl person method cope stuff hit knowledg allow help sever peopl internet well friend face similar issu talk understand import listen offer experi help get face',\n",
       " 'sometim friend bring issu feel give good advic make feel adequ normal tri kind help honest',\n",
       " 'never guess peopl dont see guy would go',\n",
       " 'last year best friend diagnos anxieti disord depress tri commit suicid tri best entir time throughout recoveri',\n",
       " 'clean friend campsit slightli help live summer alcohol mt hood wood',\n",
       " 'listen pretti damn well better appos tell stori',\n",
       " 'help friend deal alcohol mother',\n",
       " 'use tutor homeless men shelter help obtain ged age even read first grade level',\n",
       " 'high school teacher almost everyday',\n",
       " 'friend often come talk issu face life',\n",
       " 'summer camp countless kid issu tell cant listen restless',\n",
       " 'haha eight grade kid got reject twice want sign yearbook nervou told realli care reject think less probabl come top head',\n",
       " 'specif exampl let peopl know want talk',\n",
       " 'friend gone type struggl let know could talk anyth honest even truth hurt best way start get back',\n",
       " 'friend big addict issu end complet isol skip school low self esteem convinc go see doc togeth promis would go everyth went rehab month clean complet lack support famili school chang think late help like month never',\n",
       " 'alway good listen peopl think lot peopl want heard necessarili fix need express relief thought other trap much within confin head alway lent ear someon speak',\n",
       " 'one best friend diagnos cancer much could time visit almost everi day treatment alon anyth came back school help get caught school work',\n",
       " 'think qualifi seriou resourc someon els',\n",
       " 'mani time one friend tri hard drug cocain deal depress girl',\n",
       " 'lot friend girl problem dump life alway tri look posit side life tri reflect friend live well',\n",
       " 'theripist friend alway come',\n",
       " 'describ nah',\n",
       " 'brother went struggl found help abl set path heal',\n",
       " 'friend got dump girl relationship year stay side stop feel bad',\n",
       " 'open friend need emot support',\n",
       " 'gf help lot shit lot shit',\n",
       " 'friend would go girl get super depress told go kill one night drove n hour half go look cop alreadi taken hospit friend went hung also help tri talk anoth person hadnt friend year caus stuff call blue thankgiv last year call back got hospit number knew someth end kid friend year huge douch psych ward tri kill got hold talk whenev would call would answer even though still shit year earlier mind peopl might want around situat like peopl goal purpos life sustain surviv help make peopl live littl bit better make peopl laugh sad help peopl nobodi els basic treat human even stranger respect kind friend peopl need sometim let peopl talk shit offer help advic still swim shit enough keep go keep littl light end tunnel switch idk long last till flicker',\n",
       " 'sometim calm friend bad stuff happen',\n",
       " 'act resourc someon struggl school help schoolwork',\n",
       " 'friend go period intens depress made sure alway',\n",
       " 'talk though major blow girlfriend life tough time help',\n",
       " 'talk friend break',\n",
       " 'care peopl listen help tough time',\n",
       " 'internet lot peopl write talk problem often girl relat dont know guess nice rant someon dont know irl someon look situat littl bit object think lot guy also feel hard talk girl friend irl innermost feel sometim that feel get least friend jokingli refer agoni aunt',\n",
       " 'friend sometim come ask advic tri give best possibl',\n",
       " 'friend dealt anxieti desir everyth life perfect describ care happen much either way simpli talk would tri chang subject would drag back due fact want talk realiti get better unless pull back help help basic talk give advic need hear one want oh ok blow said along line blunt mani may find rude essenti make progress friend dealt anxieti desir everyth life perfect describ care happen much either way simpli talk',\n",
       " 'simpli friend somebodi struggl',\n",
       " 'friend come say peopl acquaint known kill tri find comfort best friend kill junior year high school come hope find answer peac turmoil',\n",
       " 'peopl call talk sens mayb facebook chat',\n",
       " 'self harm past share experi friend hope sway action',\n",
       " 'work problem friend',\n",
       " 'friend need help go tough stuff knew need admit brought initi talk realli help',\n",
       " 'sister pretti sever issu mental health tri need like think help',\n",
       " 'help friend stuff',\n",
       " 'help encourag friend go therapi often listen problem let know someon',\n",
       " 'realli met anyon deal attent issu chanc help unfortun',\n",
       " 'mani rememb specif help ration possibl well listen peopl need fairli common occurr',\n",
       " 'one friend feel came talk listen gave input',\n",
       " 'never',\n",
       " 'tri absolut horrabl way blunt',\n",
       " 'ex girlfriend depress anxieti use hold listen told go',\n",
       " 'alway judg peopl much listen well time natur peopl come problem',\n",
       " 'grandmoth went sever depress shortli difficulti use person experi relat share use get better help comfort',\n",
       " 'although even like extrem open share experi other help friend go similar situat pleas question situat hesit email open book excit see mani peopl go help',\n",
       " 'best friend mom past away od ing grade',\n",
       " 'camp counselor provid stabil kid live may troubl home situat',\n",
       " 'girlfriend use seriou addict troubl start date felt though addict defin person thought peopl saw look addict spent mani night talk let vent one peopl support felt though could help spot',\n",
       " 'one person ever talk go thing us talk togeth help import realiz alon']"
      ]
     },
     "execution_count": 28,
     "metadata": {},
     "output_type": "execute_result"
    }
   ],
   "source": [
    "final_result"
   ]
  },
  {
   "cell_type": "code",
   "execution_count": null,
   "metadata": {},
   "outputs": [],
   "source": []
  }
 ],
 "metadata": {
  "kernelspec": {
   "display_name": "Python 3",
   "language": "python",
   "name": "python3"
  },
  "language_info": {
   "codemirror_mode": {
    "name": "ipython",
    "version": 3
   },
   "file_extension": ".py",
   "mimetype": "text/x-python",
   "name": "python",
   "nbconvert_exporter": "python",
   "pygments_lexer": "ipython3",
   "version": "3.7.7"
  }
 },
 "nbformat": 4,
 "nbformat_minor": 4
}
